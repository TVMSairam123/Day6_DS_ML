{
  "nbformat": 4,
  "nbformat_minor": 0,
  "metadata": {
    "colab": {
      "name": "Polynomial_regression.ipynb",
      "provenance": [],
      "authorship_tag": "ABX9TyN4fYjDkpc8wpwWCQ89A+dy",
      "include_colab_link": true
    },
    "kernelspec": {
      "name": "python3",
      "display_name": "Python 3"
    },
    "language_info": {
      "name": "python"
    }
  },
  "cells": [
    {
      "cell_type": "markdown",
      "metadata": {
        "id": "view-in-github",
        "colab_type": "text"
      },
      "source": [
        "<a href=\"https://colab.research.google.com/github/TVMSairam123/Day6_DS_ML/blob/main/Polynomial_regression.ipynb\" target=\"_parent\"><img src=\"https://colab.research.google.com/assets/colab-badge.svg\" alt=\"Open In Colab\"/></a>"
      ]
    },
    {
      "cell_type": "code",
      "metadata": {
        "id": "nlcg8dgvSZfd"
      },
      "source": [
        "#import the libraries\n",
        "\n",
        "import pandas as pd\n",
        "import numpy as np\n",
        "import matplotlib.pyplot as plt\n"
      ],
      "execution_count": null,
      "outputs": []
    },
    {
      "cell_type": "code",
      "metadata": {
        "id": "gUx0fGAaTH3h"
      },
      "source": [
        "#Import the dataset\n",
        "dataset = pd.read_csv(\"/content/Position_Salaries.csv\")\n",
        "\n",
        "x = dataset.iloc[:, 1:-1].values\n",
        "y = dataset.iloc[:, -1].values"
      ],
      "execution_count": null,
      "outputs": []
    },
    {
      "cell_type": "code",
      "metadata": {
        "colab": {
          "base_uri": "https://localhost:8080/"
        },
        "id": "KspNoQEJUn6I",
        "outputId": "dd41b3a9-60eb-4978-ddf6-4674ffbb5c73"
      },
      "source": [
        "#Import Simple Linear Regression Model(Only Level column as independent variable)\n",
        "\n",
        "from sklearn.linear_model import LinearRegression\n",
        "\n",
        "lin1_reg = LinearRegression()\n",
        "lin1_reg.fit(x,y)"
      ],
      "execution_count": null,
      "outputs": [
        {
          "output_type": "execute_result",
          "data": {
            "text/plain": [
              "LinearRegression(copy_X=True, fit_intercept=True, n_jobs=None, normalize=False)"
            ]
          },
          "metadata": {
            "tags": []
          },
          "execution_count": 5
        }
      ]
    },
    {
      "cell_type": "code",
      "metadata": {
        "colab": {
          "base_uri": "https://localhost:8080/"
        },
        "id": "LuHlZYN1XGFD",
        "outputId": "f2d97d5d-c3ad-467e-df73-f7bdac06ed8a"
      },
      "source": [
        "#We need to use the linear regression data and implement polynomial representation\n",
        "\n",
        "from sklearn.preprocessing import PolynomialFeatures\n",
        "\n",
        "poly_reg = PolynomialFeatures(degree = 5)\n",
        "\n",
        "x_poly = poly_reg.fit_transform(x)\n",
        "\n",
        "lin2_reg = LinearRegression()\n",
        "\n",
        "lin2_reg.fit(x_poly, y)"
      ],
      "execution_count": null,
      "outputs": [
        {
          "output_type": "execute_result",
          "data": {
            "text/plain": [
              "LinearRegression(copy_X=True, fit_intercept=True, n_jobs=None, normalize=False)"
            ]
          },
          "metadata": {
            "tags": []
          },
          "execution_count": 11
        }
      ]
    },
    {
      "cell_type": "code",
      "metadata": {
        "colab": {
          "base_uri": "https://localhost:8080/",
          "height": 295
        },
        "id": "868TioJRX4kX",
        "outputId": "cd2088cc-e839-4080-e458-257a403775f1"
      },
      "source": [
        "#Visualize the linear regression\n",
        "\n",
        "plt.scatter(x, y, color = \"blue\")\n",
        "plt.plot(x, lin1_reg.predict(x), color = \"green\")\n",
        "plt.title(\"Truth identification for salaries\")\n",
        "plt.xlabel(\"Positions\")\n",
        "plt.ylabel(\"Salaries\")\n",
        "plt.show()"
      ],
      "execution_count": null,
      "outputs": [
        {
          "output_type": "display_data",
          "data": {
            "image/png": "[encoded data removed]",
            "text/plain": [
              "<Figure size 432x288 with 1 Axes>"
            ]
          },
          "metadata": {
            "tags": [],
            "needs_background": "light"
          }
        }
      ]
    },
    {
      "cell_type": "code",
      "metadata": {
        "colab": {
          "base_uri": "https://localhost:8080/",
          "height": 295
        },
        "id": "JPllWXO5YlxE",
        "outputId": "303f201d-cc9c-4a0b-da25-60d175c121d5"
      },
      "source": [
        "#Visualization using polynomial Regression\n",
        "\n",
        "plt.scatter(x, y, color = \"blue\")\n",
        "plt.plot(x, lin2_reg.predict(poly_reg.fit_transform(x)), color = \"green\")\n",
        "plt.title(\"Truth identification for salaries using polynomial regression\")\n",
        "plt.xlabel(\"Positions\")\n",
        "plt.ylabel(\"Salaries\")\n",
        "plt.show()"
      ],
      "execution_count": null,
      "outputs": [
        {
          "output_type": "display_data",
          "data": {
            "image/png": "[encoded data removed]",
            "text/plain": [
              "<Figure size 432x288 with 1 Axes>"
            ]
          },
          "metadata": {
            "tags": [],
            "needs_background": "light"
          }
        }
      ]
    },
    {
      "cell_type": "code",
      "metadata": {
        "colab": {
          "base_uri": "https://localhost:8080/"
        },
        "id": "4xOZRG5wcjte",
        "outputId": "86493501-be9c-48c0-8ca8-42e8b1773d64"
      },
      "source": [
        "lin1_reg.predict([[7.5]])"
      ],
      "execution_count": null,
      "outputs": [
        {
          "output_type": "execute_result",
          "data": {
            "text/plain": [
              "array([411257.57575758])"
            ]
          },
          "metadata": {
            "tags": []
          },
          "execution_count": 16
        }
      ]
    },
    {
      "cell_type": "code",
      "metadata": {
        "colab": {
          "base_uri": "https://localhost:8080/"
        },
        "id": "9EEygw94cyjv",
        "outputId": "ddfb7737-8038-48d5-ef53-67ed87bdd7b9"
      },
      "source": [
        "poly_pred = lin2_reg.predict(poly_reg.fit_transform([[7.5]]))\n",
        "\n",
        "print(poly_pred)"
      ],
      "execution_count": null,
      "outputs": [
        {
          "output_type": "stream",
          "text": [
            "[237446.00451605]\n"
          ],
          "name": "stdout"
        }
      ]
    }
  ]
}